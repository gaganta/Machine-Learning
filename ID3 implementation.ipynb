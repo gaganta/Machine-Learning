{
 "cells": [
  {
   "cell_type": "code",
   "execution_count": 15,
   "metadata": {},
   "outputs": [
    {
     "name": "stdout",
     "output_type": "stream",
     "text": [
      "Requirement already satisfied: decision-tree-id3 in c:\\users\\gagan\\anaconda3\\lib\\site-packages (0.1.2)\n",
      "Requirement already satisfied: nose>=1.1.2 in c:\\users\\gagan\\anaconda3\\lib\\site-packages (from decision-tree-id3) (1.3.7)\n",
      "Requirement already satisfied: numpy>=1.6.1 in c:\\users\\gagan\\anaconda3\\lib\\site-packages (from decision-tree-id3) (1.19.2)\n",
      "Requirement already satisfied: scikit-learn>=0.17 in c:\\users\\gagan\\anaconda3\\lib\\site-packages (from decision-tree-id3) (0.23.2)\n",
      "Requirement already satisfied: joblib>=0.11 in c:\\users\\gagan\\anaconda3\\lib\\site-packages (from scikit-learn>=0.17->decision-tree-id3) (0.17.0)\n",
      "Requirement already satisfied: threadpoolctl>=2.0.0 in c:\\users\\gagan\\anaconda3\\lib\\site-packages (from scikit-learn>=0.17->decision-tree-id3) (2.1.0)\n",
      "Requirement already satisfied: scipy>=0.19.1 in c:\\users\\gagan\\anaconda3\\lib\\site-packages (from scikit-learn>=0.17->decision-tree-id3) (1.5.2)\n"
     ]
    }
   ],
   "source": [
    "!pip install decision-tree-id3\n",
    "import pandas as pd\n",
    "import numpy as np \n",
    "import six \n",
    "import sys\n",
    "sys.modules['sklearn.externals.six'] = six"
   ]
  },
  {
   "cell_type": "code",
   "execution_count": 16,
   "metadata": {},
   "outputs": [],
   "source": [
    "train_data = pd.read_csv('https://raw.githubusercontent.com/gaganta/Machine-Learning/main/train%20(1).csv')\n",
    "test_data = pd.read_csv('https://raw.githubusercontent.com/gaganta/Machine-Learning/main/test.csv')"
   ]
  },
  {
   "cell_type": "code",
   "execution_count": 17,
   "metadata": {},
   "outputs": [],
   "source": [
    "features = [\"Pclass\",\"Sex\",\"Parch\",\"SibSp\"]"
   ]
  },
  {
   "cell_type": "code",
   "execution_count": 18,
   "metadata": {},
   "outputs": [],
   "source": [
    "X_train = pd.get_dummies(train_data[features])\n",
    "y_train = train_data['Survived']\n",
    "final_X_test = pd.get_dummies(test_data[features])"
   ]
  },
  {
   "cell_type": "markdown",
   "metadata": {},
   "source": [
    "## id3"
   ]
  },
  {
   "cell_type": "code",
   "execution_count": 20,
   "metadata": {},
   "outputs": [
    {
     "data": {
      "text/plain": [
       "Id3Estimator()"
      ]
     },
     "execution_count": 20,
     "metadata": {},
     "output_type": "execute_result"
    }
   ],
   "source": [
    "from id3 import Id3Estimator\n",
    "classifier = Id3Estimator()\n",
    "classifier.fit(X_train,y_train)"
   ]
  },
  {
   "cell_type": "code",
   "execution_count": 21,
   "metadata": {},
   "outputs": [],
   "source": [
    "# use the model to predict 'Survived' for the test data\n",
    "predictions = classifier.predict(final_X_test)"
   ]
  },
  {
   "cell_type": "code",
   "execution_count": 22,
   "metadata": {},
   "outputs": [],
   "source": [
    "#Write out to csv submission file\n",
    "output = pd.DataFrame({'PassengerId': test_data.PassengerId, \n",
    "                       'Survived': predictions})\n",
    "output.to_csv('submission.csv', index=False)"
   ]
  }
 ],
 "metadata": {
  "kernelspec": {
   "display_name": "Python 3",
   "language": "python",
   "name": "python3"
  },
  "language_info": {
   "codemirror_mode": {
    "name": "ipython",
    "version": 3
   },
   "file_extension": ".py",
   "mimetype": "text/x-python",
   "name": "python",
   "nbconvert_exporter": "python",
   "pygments_lexer": "ipython3",
   "version": "3.8.5"
  }
 },
 "nbformat": 4,
 "nbformat_minor": 4
}
